{
 "cells": [
  {
   "cell_type": "code",
   "execution_count": 1,
   "id": "9262d28e",
   "metadata": {},
   "outputs": [],
   "source": [
    "import logging\n",
    "import sys\n",
    "sys.path.append(\"/home/oscar/projects/ai-sales-agent\")\n",
    "from agents.config.llm_models import AVAILABLE_MODELS\n",
    "logging.basicConfig(level=logging.INFO)"
   ]
  },
  {
   "cell_type": "markdown",
   "id": "4b5f6718",
   "metadata": {},
   "source": [
    "Voy a importar todos los agentes que utilizaré este workflow. Primero una respuestaen general."
   ]
  },
  {
   "cell_type": "markdown",
   "id": "66ced6e3",
   "metadata": {},
   "source": [
    "Con este puedo clasificar cual es la intención inicial del usuario al escribir un mensaje.\n"
   ]
  },
  {
   "cell_type": "code",
   "execution_count": 2,
   "id": "342bbc28",
   "metadata": {},
   "outputs": [
    {
     "name": "stderr",
     "output_type": "stream",
     "text": [
      "INFO:agents.baseagents._basebot:Setting system prompt: Clasifica la siguiente solicitud del cliente en una de estas dos categorías:\n",
      "- \"general\"\n",
      "- \"catalog\"\n",
      "\n",
      "Responde con unicamente el diccionario que contiene el tipo de solicitud y no incluyas ningún otro texto.\n",
      "\n",
      "Ejemplos:\n",
      "Solicitud: ¿Dónde están ubicadas sus sucursales?\n",
      "Respuesta:\n",
      "{\"_type\": \"general\"}\n",
      "\n",
      "Solicitud: ¿Estoy buscando un auto pequeñó.\n",
      "Respuesta:\n",
      "{\"_type\": \"catalog\"}\n"
     ]
    },
    {
     "name": "stderr",
     "output_type": "stream",
     "text": [
      "INFO:agents.baseagents._basebot:Classifying input: Hola\n",
      "INFO:agents.baseagents._basebot:Sending message: Hola\n",
      "INFO:agents.baseagents._basebot:Updated chat history with user: Hola\n",
      "INFO:httpx:HTTP Request: POST https://api.deepseek.com/chat/completions \"HTTP/1.1 200 OK\"\n",
      "INFO:agents.baseagents._basebot:Updated chat history with assistant: {\"_type\": \"general\"}\n",
      "INFO:agents.baseagents._basebot:Received response: {\"_type\": \"general\"}\n"
     ]
    },
    {
     "name": "stdout",
     "output_type": "stream",
     "text": [
      "Intent: general\n"
     ]
    }
   ],
   "source": [
    "from agents.kavak_classifiers import IntentClassifier\n",
    "\n",
    "model = \"deepseek-v3\"\n",
    "chat_history = []\n",
    "\n",
    "intent_classifier = IntentClassifier(model=model)\n",
    "\n",
    "user_input = \"Hola\"\n",
    "chat_history.append({\"role\": \"user\", \"content\": user_input})\n",
    "intent_response = intent_classifier.classify(user_input)\n",
    "print(f\"Intent: {intent_response['_type']}\")\n",
    "assert intent_response[\"_type\"] == \"general\", f\"Expected 'general', but got {intent_response['_type']}\""
   ]
  },
  {
   "cell_type": "code",
   "execution_count": 3,
   "id": "a3f3d7a3",
   "metadata": {},
   "outputs": [
    {
     "name": "stderr",
     "output_type": "stream",
     "text": [
      "INFO:agents.baseagents._basebot:Sending message: Hola\n",
      "INFO:agents.baseagents._basebot:Updated chat history with user: Hola\n",
      "INFO:httpx:HTTP Request: POST https://api.deepseek.com/chat/completions \"HTTP/1.1 200 OK\"\n",
      "INFO:agents.baseagents._basebot:Updated chat history with assistant: ¡Hola! 😊 ¿En qué puedo ayudarte hoy? Si tienes alguna pregunta sobre Kavak, sus sedes, procesos de compra/venta o financiamiento, con gusto te ayudo.  \n",
      "\n",
      "Por ejemplo, puedes preguntar:  \n",
      "- ¿Dónde están las sedes de Kavak en México?  \n",
      "- ¿Cómo funciona el plan de pagos a meses?  \n",
      "- ¿Qué beneficios tiene vender mi auto con Kavak?  \n",
      "\n",
      "Dime qué necesitas saber. 🚗💙\n",
      "INFO:agents.baseagents._basebot:Received response: ¡Hola! 😊 ¿En qué puedo ayudarte hoy? Si tienes alguna pregunta sobre Kavak, sus sedes, procesos de compra/venta o financiamiento, con gusto te ayudo.  \n",
      "\n",
      "Por ejemplo, puedes preguntar:  \n",
      "- ¿Dónde están las sedes de Kavak en México?  \n",
      "- ¿Cómo funciona el plan de pagos a meses?  \n",
      "- ¿Qué beneficios tiene vender mi auto con Kavak?  \n",
      "\n",
      "Dime qué necesitas saber. 🚗💙\n"
     ]
    },
    {
     "name": "stdout",
     "output_type": "stream",
     "text": [
      "General Bot Response: ¡Hola! 😊 ¿En qué puedo ayudarte hoy? Si tienes alguna pregunta sobre Kavak, sus sedes, procesos de compra/venta o financiamiento, con gusto te ayudo.  \n",
      "\n",
      "Por ejemplo, puedes preguntar:  \n",
      "- ¿Dónde están las sedes de Kavak en México?  \n",
      "- ¿Cómo funciona el plan de pagos a meses?  \n",
      "- ¿Qué beneficios tiene vender mi auto con Kavak?  \n",
      "\n",
      "Dime qué necesitas saber. 🚗💙\n"
     ]
    }
   ],
   "source": [
    "from agents.kavak_general import KavakGeneralBot\n",
    "\n",
    "general_bot = KavakGeneralBot(model=model)\n",
    "general_response = general_bot.send_message(user_input)\n",
    "print(f\"General Bot Response: {general_response}\")\n",
    "chat_history.append({\"role\": \"assistant\", \"content\": general_response})"
   ]
  },
  {
   "cell_type": "markdown",
   "id": "a0e92625",
   "metadata": {},
   "source": [
    "Ahora el usuario va a pedir infomación sobre un producto."
   ]
  },
  {
   "cell_type": "code",
   "execution_count": 4,
   "id": "6c1ca892",
   "metadata": {},
   "outputs": [
    {
     "name": "stderr",
     "output_type": "stream",
     "text": [
      "INFO:agents.baseagents._basebot:Classifying input: Hola estoy buscando un honda cibic 2016\n",
      "INFO:agents.baseagents._basebot:Sending message: Hola estoy buscando un honda cibic 2016\n",
      "INFO:agents.baseagents._basebot:Updated chat history with user: Hola estoy buscando un honda cibic 2016\n",
      "INFO:httpx:HTTP Request: POST https://api.deepseek.com/chat/completions \"HTTP/1.1 200 OK\"\n",
      "INFO:agents.baseagents._basebot:Updated chat history with assistant: {\"_type\": \"catalog\"}\n",
      "INFO:agents.baseagents._basebot:Received response: {\"_type\": \"catalog\"}\n"
     ]
    },
    {
     "name": "stdout",
     "output_type": "stream",
     "text": [
      "Intent: catalog\n"
     ]
    }
   ],
   "source": [
    "from agents.kavak_classifiers import IntentClassifier\n",
    "\n",
    "user_input = \"Hola estoy buscando un honda cibic 2016\"\n",
    "chat_history.append({\"role\": \"user\", \"content\": user_input})\n",
    "intent_response = intent_classifier.classify(user_input)\n",
    "print(f\"Intent: {intent_response['_type']}\")\n",
    "\n",
    "assert intent_response[\"_type\"] == \"catalog\", f\"Expected 'catalog', but got {intent_response['_type']}\""
   ]
  },
  {
   "cell_type": "markdown",
   "id": "fa2e7179",
   "metadata": {},
   "source": [
    "Después for a pasar la pregunta al normalizador, que se encargará de normalizar la pregunta y eliminar palabras innecesarias y dejarla en un formato más limpio para que el clasificador de entidades pueda trabajar mejor."
   ]
  },
  {
   "cell_type": "code",
   "execution_count": 5,
   "id": "42bae06c",
   "metadata": {},
   "outputs": [
    {
     "name": "stderr",
     "output_type": "stream",
     "text": [
      "INFO:httpx:HTTP Request: POST https://api.deepseek.com/chat/completions \"HTTP/1.1 200 OK\"\n",
      "INFO:agents.baseagents._normalizer:Response from LLM: content='```json\\n{\\n  \"marca\": \"Honda\",\\n  \"modelo\": \"Civic\",\\n  \"año\": 2016,\\n  \"version\": null,\\n  \"precio\": null,\\n  \"km\": null,\\n  \"bluetooth\": null,\\n  \"car_play\": null,\\n  \"tamaño\": null,\\n  \"carrocería\": null\\n}\\n```' additional_kwargs={'refusal': None} response_metadata={'token_usage': {'completion_tokens': 85, 'prompt_tokens': 457, 'total_tokens': 542, 'completion_tokens_details': None, 'prompt_tokens_details': {'audio_tokens': None, 'cached_tokens': 448}, 'prompt_cache_hit_tokens': 448, 'prompt_cache_miss_tokens': 9}, 'model_name': 'deepseek-chat', 'system_fingerprint': 'fp_8802369eaa_prod0425fp8', 'id': '63c7316e-9ac7-4bd7-9ec0-177ceecb863c', 'service_tier': None, 'finish_reason': 'stop', 'logprobs': None} id='run--60b650af-9139-4216-8f04-cb5d2fbe40d5-0' usage_metadata={'input_tokens': 457, 'output_tokens': 85, 'total_tokens': 542, 'input_token_details': {'cache_read': 448}, 'output_token_details': {}}\n"
     ]
    },
    {
     "data": {
      "text/plain": [
       "{'marca': 'Honda',\n",
       " 'modelo': 'Civic',\n",
       " 'año': 2016,\n",
       " 'version': None,\n",
       " 'precio': None,\n",
       " 'km': None,\n",
       " 'bluetooth': None,\n",
       " 'car_play': None,\n",
       " 'tamaño': None,\n",
       " 'carrocería': None}"
      ]
     },
     "execution_count": 5,
     "metadata": {},
     "output_type": "execute_result"
    }
   ],
   "source": [
    "from agents.vehicle_normalizer import VehicleNormalizer\n",
    "\n",
    "normalizer = VehicleNormalizer(model=model)\n",
    "normalized_request = normalizer.normalize(user_input)\n",
    "normalized_request"
   ]
  },
  {
   "cell_type": "markdown",
   "id": "1c9b59f1",
   "metadata": {},
   "source": [
    "Posteriormente voy a obtener la respuesta normalziada y la voy a pasar al recomendador. El cual va a elegir el vehiculo más adecuado para la pregunta del usuario."
   ]
  },
  {
   "cell_type": "code",
   "execution_count": 6,
   "id": "74ed4e41",
   "metadata": {},
   "outputs": [
    {
     "name": "stderr",
     "output_type": "stream",
     "text": [
      "INFO:agents.baseagents._basebot:Setting system prompt: Eres un asistente de ventas de autos de la empresa Kavak. Tu tarea es ayudar a los clientes a encontrar el auto que buscan. Se te va a dart una de JSON con las especificaciones del auto que busca el cliente. Tu tarea es recomendar de manera precisa y concisa el auto que mejor se ajuste a las especificaciones del cliente. Al final pregunta si desea un plan de financiamiento para ese auto. Tus respuestas se enviarán por whatsapp, asi que no utilices markdown que no es compatible con whatsapp.\n",
      "INFO:agents.baseagents._basebot:Generating explanation for recommendation: [{'stock_id': 299048, 'km': 64638, 'precio': 192999.0, 'marca': 'Honda', 'modelo': 'Civic', 'año': 2013, 'version': '1.8 EX-L AT 4DRS', 'bluetooth': 'Sí', 'largo': 4555.0, 'ancho': 1755.0, 'altura': 1450.0, 'car_play': nan, 'similarity_score': 97.72727272727272}]\n",
      "INFO:agents.baseagents._basebot:Context: El usuario preguntó: Hola estoy buscando un honda cibic 2016. \n",
      " Las recomendaciones son las siguientes: {}\n",
      "INFO:agents.baseagents._basebot:Sending message: El usuario preguntó: Hola estoy buscando un honda cibic 2016. \n",
      " Las recomendaciones son las siguientes: [{'stock_id': 299048, 'km': 64638, 'precio': 192999.0, 'marca': 'Honda', 'modelo': 'Civic', 'año': 2013, 'version': '1.8 EX-L AT 4DRS', 'bluetooth': 'Sí', 'largo': 4555.0, 'ancho': 1755.0, 'altura': 1450.0, 'car_play': nan, 'similarity_score': 97.72727272727272}]\n",
      "INFO:agents.baseagents._basebot:Updated chat history with user: El usuario preguntó: Hola estoy buscando un honda cibic 2016. \n",
      " Las recomendaciones son las siguientes: [{'stock_id': 299048, 'km': 64638, 'precio': 192999.0, 'marca': 'Honda', 'modelo': 'Civic', 'año': 2013, 'version': '1.8 EX-L AT 4DRS', 'bluetooth': 'Sí', 'largo': 4555.0, 'ancho': 1755.0, 'altura': 1450.0, 'car_play': nan, 'similarity_score': 97.72727272727272}]\n",
      "INFO:httpx:HTTP Request: POST https://api.deepseek.com/chat/completions \"HTTP/1.1 200 OK\"\n",
      "INFO:agents.baseagents._basebot:Updated chat history with assistant: ¡Hola! Encontramos un Honda Civic que se ajusta a lo que buscas:\n",
      "\n",
      "*Modelo:* Honda Civic 1.8 EX-L AT 4DRS 2013  \n",
      "*Kilometraje:* 64,638 km  \n",
      "*Precio:* $192,999  \n",
      "*Incluye:* Bluetooth  \n",
      "\n",
      "Aunque es un modelo 2013 (no encontramos exactamente 2016), es muy similar a lo que solicitaste. ¿Te interesa que te cotice un plan de financiamiento para este auto?\n",
      "INFO:agents.baseagents._basebot:Received response: ¡Hola! Encontramos un Honda Civic que se ajusta a lo que buscas:\n",
      "\n",
      "*Modelo:* Honda Civic 1.8 EX-L AT 4DRS 2013  \n",
      "*Kilometraje:* 64,638 km  \n",
      "*Precio:* $192,999  \n",
      "*Incluye:* Bluetooth  \n",
      "\n",
      "Aunque es un modelo 2013 (no encontramos exactamente 2016), es muy similar a lo que solicitaste. ¿Te interesa que te cotice un plan de financiamiento para este auto?\n"
     ]
    },
    {
     "data": {
      "text/plain": [
       "{'raw': [{'stock_id': 299048,\n",
       "   'km': 64638,\n",
       "   'precio': 192999.0,\n",
       "   'marca': 'Honda',\n",
       "   'modelo': 'Civic',\n",
       "   'año': 2013,\n",
       "   'version': '1.8 EX-L AT 4DRS',\n",
       "   'bluetooth': 'Sí',\n",
       "   'largo': 4555.0,\n",
       "   'ancho': 1755.0,\n",
       "   'altura': 1450.0,\n",
       "   'car_play': nan,\n",
       "   'similarity_score': 97.72727272727272}],\n",
       " 'readable': '¡Hola! Encontramos un Honda Civic que se ajusta a lo que buscas:\\n\\n*Modelo:* Honda Civic 1.8 EX-L AT 4DRS 2013  \\n*Kilometraje:* 64,638 km  \\n*Precio:* $192,999  \\n*Incluye:* Bluetooth  \\n\\nAunque es un modelo 2013 (no encontramos exactamente 2016), es muy similar a lo que solicitaste. ¿Te interesa que te cotice un plan de financiamiento para este auto?'}"
      ]
     },
     "execution_count": 6,
     "metadata": {},
     "output_type": "execute_result"
    }
   ],
   "source": [
    "from agents.vehicle_recommendation import VehicleRecommender\n",
    "import pandas as pd\n",
    "\n",
    "\n",
    "data = pd.read_csv(\"/home/oscar/projects/ai-sales-agent/data/csv/sample_caso_ai_engineer.csv\")\n",
    "\n",
    "recommender = VehicleRecommender(model=model, data=data)\n",
    "recommendations = recommender.get_recommendations(user_input, normalized_request)\n",
    "chat_history.append({\"role\": \"assistant\", \"content\": recommendations[\"readable\"]})\n",
    "recommendations\n"
   ]
  },
  {
   "cell_type": "markdown",
   "id": "7fdc27bb",
   "metadata": {},
   "source": [
    "Se entrega la respuesta al cliente y se espera a su respuesta. Ahora toca clasificar la respuesta del cliente si es que desea un financiamiento o no."
   ]
  },
  {
   "cell_type": "code",
   "execution_count": 7,
   "id": "88df07a1",
   "metadata": {},
   "outputs": [
    {
     "name": "stderr",
     "output_type": "stream",
     "text": [
      "INFO:agents.baseagents._basebot:Setting system prompt: Eres un asistente que clasifica las respuestas de los clientes. El cliente te va a responder si desea un plan de financiamiento o no. Tu tarea es clasificar la respuesta en dos categorias: true  o false. Si el cliente dice que si, entonces devuelve true , si el cliente dice que no, entonces devuelve false. Responde unicamente con el diccionario JSON que contiene la respuesta. No incluyas ningun otro texto.\n",
      "Ejemplo:\n",
      "\n",
      "El cliente dice: \"si, me interesa un plan de financiamiento\"\n",
      "Respuesta: \n",
      "{\"response\": true}\n",
      "INFO:agents.baseagents._basebot:Classifying input: Si, me gustaría financiarlo\n",
      "INFO:agents.baseagents._basebot:Sending message: Si, me gustaría financiarlo\n",
      "INFO:agents.baseagents._basebot:Updated chat history with user: Si, me gustaría financiarlo\n",
      "INFO:httpx:HTTP Request: POST https://api.deepseek.com/chat/completions \"HTTP/1.1 200 OK\"\n",
      "INFO:agents.baseagents._basebot:Updated chat history with assistant: ```json\n",
      "{\"response\": true}\n",
      "```\n",
      "INFO:agents.baseagents._basebot:Received response: ```json\n",
      "{\"response\": true}\n",
      "```\n"
     ]
    },
    {
     "name": "stdout",
     "output_type": "stream",
     "text": [
      "Financing: True\n"
     ]
    }
   ],
   "source": [
    "from agents.kavak_classifiers import FinancingBoolClassifier\n",
    "\n",
    "user_response = \"Si, me gustaría financiarlo\"\n",
    "chat_history.append({\"role\": \"user\", \"content\": user_response})\n",
    "financing_classifier = FinancingBoolClassifier(model=model)\n",
    "response = financing_classifier.classify(user_response)\n",
    "print(f\"Financing: {response['response']}\")\n",
    "\n",
    "assert response[\"response\"] == True, f\"Expected True, but got {response['response']}\""
   ]
  },
  {
   "cell_type": "markdown",
   "id": "ff1c5627",
   "metadata": {},
   "source": [
    "El agente pregunta que a cuantos años y con cuanto de enganche. El cliente response y se calcula el financiamiento."
   ]
  },
  {
   "cell_type": "code",
   "execution_count": 8,
   "id": "78c0c1e0",
   "metadata": {},
   "outputs": [
    {
     "name": "stderr",
     "output_type": "stream",
     "text": [
      "INFO:agents.baseagents._basebot:Setting system prompt: CLasifica la solicitud del client en 3, 4, 5, o 6 años y cuanto quiere dar de enganche. si nmo pudes extraer el dato, entonces devuelve null. Responde unicamente con el diccionario JSON que contiene la respuesta. No incluyas ningun otro texto.\n",
      "Considera que el cliente puede usar numeros, letras, o una combinacion de ambos.\n",
      "\n",
      "Ejemplo:\n",
      "El cliente dice: \"a 3 años con un enganche de 10000\"\n",
      "Respuesta: \n",
      "{\"term\": 3, \"down_payment\": 10000}\n",
      "\n",
      "El cliente dice: \"a 3 años con un enganche de 10%\"\n",
      "Respuesta: \n",
      "{\"term\": 3, \"down_payment\": precio * 0.1}\n",
      "\n",
      "El cliente dice: \"me gustaría financiarlo a 4 meses con un enganche de 10000\" # meses no es valido\n",
      "Respuesta:\n",
      "{\"term\": null, \"down_payment\": 10000}\n",
      "\n",
      "El cliente dice: \"me gustaría financiarlo a 10 años con un enganche de 10000\"  # No es valido mas de 6 años\n",
      "Respuesta:\n",
      "{\"term\": null, \"down_payment\": 10000}\n",
      "\n",
      "El cliente dice: \"a 2\"\n",
      "Respuesta:\n",
      "{\"term\": null, \"down_payment\": null}\n",
      "\n",
      "El cliente dice: \"me gustaría financiarlo a 4 años\"\n",
      "Respuesta:\n",
      "{\"term\": 4, \"down_payment\": null}\n",
      "INFO:agents.baseagents._basebot:Classifying input: 3 años y 20% de enganche\n",
      "INFO:agents.baseagents._basebot:Sending message: 3 años y 20% de enganche\n",
      "INFO:agents.baseagents._basebot:Updated chat history with user: 3 años y 20% de enganche\n",
      "INFO:httpx:HTTP Request: POST https://api.deepseek.com/chat/completions \"HTTP/1.1 200 OK\"\n",
      "INFO:agents.baseagents._basebot:Updated chat history with assistant: ```json\n",
      "{\"term\": 3, \"down_payment\": \"precio * 0.2\"}\n",
      "```\n",
      "INFO:agents.baseagents._basebot:Received response: ```json\n",
      "{\"term\": 3, \"down_payment\": \"precio * 0.2\"}\n",
      "```\n"
     ]
    },
    {
     "name": "stdout",
     "output_type": "stream",
     "text": [
      "Financing Term: {'term': 3, 'down_payment': 'precio*0.2', 'input': '3 años y 20% de enganche'}\n"
     ]
    }
   ],
   "source": [
    "from agents.kavak_classifiers import FinancingTermClassifier\n",
    "from agents.utils.financing_plan import calc_financing\n",
    "\n",
    "term_question = \"¿A cuantos años quieres financiarlo y con cuanto de enganche?\"\n",
    "chat_history.append({\"role\": \"user\", \"content\": term_question})\n",
    "\n",
    "model = \"deepseek-v3\"       \n",
    "financing_term_classifier = FinancingTermClassifier(model=model)\n",
    "term = \"3 años y 20% de enganche\"\n",
    "chat_history.append({\"role\": \"user\", \"content\": term})\n",
    "financing_term_response = financing_term_classifier.classify(term)\n",
    "print(f\"Financing Term: {financing_term_response}\")"
   ]
  },
  {
   "cell_type": "markdown",
   "id": "05fee2e8",
   "metadata": {},
   "source": [
    "Finalmente el agene toma el calculo y lo explica en un formato más amigable para el cliente."
   ]
  },
  {
   "cell_type": "code",
   "execution_count": 9,
   "id": "ecb2510e",
   "metadata": {},
   "outputs": [
    {
     "name": "stderr",
     "output_type": "stream",
     "text": [
      "INFO:agents.baseagents._basebot:Sending message: {'precio': 1000000, 'enganche': 200000.0, 'años': 3, 'mensualidad': 25813.75, 'total_pagado': 929294.99, 'intereses_totales': 129294.99, 'monto_financiar': 800000.0}\n",
      "INFO:agents.baseagents._basebot:Updated chat history with user: {'precio': 1000000, 'enganche': 200000.0, 'años': 3, 'mensualidad': 25813.75, 'total_pagado': 929294.99, 'intereses_totales': 129294.99, 'monto_financiar': 800000.0}\n",
      "INFO:httpx:HTTP Request: POST https://api.deepseek.com/chat/completions \"HTTP/1.1 200 OK\"\n",
      "INFO:agents.baseagents._basebot:Updated chat history with assistant: ¡Claro! Aquí tienes el resumen de tu financiamiento:  \n",
      "\n",
      "🔹 **Precio del auto:** $1,000,000 MXN  \n",
      "🔹 **Enganche (20%):** $200,000 MXN  \n",
      "🔹 **Monto a financiar:** $800,000 MXN  \n",
      "🔹 **Plazo:** 3 años (36 meses)  \n",
      "🔹 **Pago mensual:** $25,813.75 MXN  \n",
      "🔹 **Total a pagar (incluyendo intereses):** $929,294.99 MXN  \n",
      "🔹 **Intereses totales:** $129,294.99 MXN  \n",
      "\n",
      "En resumen:  \n",
      "- Pagarás $25,813.75 al mes durante 3 años.  \n",
      "- Al final, habrás pagado $929,294.99 en total.  \n",
      "- Los intereses suman $129,294.99.  \n",
      "\n",
      "¿Te gustaría ajustar algún dato o necesitas más información? 😊\n",
      "INFO:agents.baseagents._basebot:Received response: ¡Claro! Aquí tienes el resumen de tu financiamiento:  \n",
      "\n",
      "🔹 **Precio del auto:** $1,000,000 MXN  \n",
      "🔹 **Enganche (20%):** $200,000 MXN  \n",
      "🔹 **Monto a financiar:** $800,000 MXN  \n",
      "🔹 **Plazo:** 3 años (36 meses)  \n",
      "🔹 **Pago mensual:** $25,813.75 MXN  \n",
      "🔹 **Total a pagar (incluyendo intereses):** $929,294.99 MXN  \n",
      "🔹 **Intereses totales:** $129,294.99 MXN  \n",
      "\n",
      "En resumen:  \n",
      "- Pagarás $25,813.75 al mes durante 3 años.  \n",
      "- Al final, habrás pagado $929,294.99 en total.  \n",
      "- Los intereses suman $129,294.99.  \n",
      "\n",
      "¿Te gustaría ajustar algún dato o necesitas más información? 😊\n"
     ]
    }
   ],
   "source": [
    "from agents.financing_explainer import FinancingExplainer\n",
    "\n",
    "\n",
    "financing_plan = calc_financing(\n",
    "    total_price=1000000,\n",
    "    down_payment=financing_term_response[\"down_payment\"],\n",
    "    term=financing_term_response[\"term\"],\n",
    "    )\n",
    "financing_plan\n",
    "\n",
    "explainer = FinancingExplainer(model=model)\n",
    "financing_explanation = explainer.send_message(str(financing_plan))\n",
    "financing_explanation\n",
    "\n",
    "chat_history.append({\"role\": \"assistant\", \"content\": financing_explanation})"
   ]
  },
  {
   "cell_type": "code",
   "execution_count": 10,
   "id": "588932db",
   "metadata": {},
   "outputs": [
    {
     "name": "stdout",
     "output_type": "stream",
     "text": [
      "Chat History\n",
      "[{'content': 'Hola', 'role': 'user'},\n",
      " {'content': '¡Hola! 😊 ¿En qué puedo ayudarte hoy? Si tienes alguna pregunta '\n",
      "             'sobre Kavak, sus sedes, procesos de compra/venta o '\n",
      "             'financiamiento, con gusto te ayudo.  \\n'\n",
      "             '\\n'\n",
      "             'Por ejemplo, puedes preguntar:  \\n'\n",
      "             '- ¿Dónde están las sedes de Kavak en México?  \\n'\n",
      "             '- ¿Cómo funciona el plan de pagos a meses?  \\n'\n",
      "             '- ¿Qué beneficios tiene vender mi auto con Kavak?  \\n'\n",
      "             '\\n'\n",
      "             'Dime qué necesitas saber. 🚗💙',\n",
      "  'role': 'assistant'},\n",
      " {'content': 'Hola estoy buscando un honda cibic 2016', 'role': 'user'},\n",
      " {'content': '¡Hola! Encontramos un Honda Civic que se ajusta a lo que '\n",
      "             'buscas:\\n'\n",
      "             '\\n'\n",
      "             '*Modelo:* Honda Civic 1.8 EX-L AT 4DRS 2013  \\n'\n",
      "             '*Kilometraje:* 64,638 km  \\n'\n",
      "             '*Precio:* $192,999  \\n'\n",
      "             '*Incluye:* Bluetooth  \\n'\n",
      "             '\\n'\n",
      "             'Aunque es un modelo 2013 (no encontramos exactamente 2016), es '\n",
      "             'muy similar a lo que solicitaste. ¿Te interesa que te cotice un '\n",
      "             'plan de financiamiento para este auto?',\n",
      "  'role': 'assistant'},\n",
      " {'content': 'Si, me gustaría financiarlo', 'role': 'user'},\n",
      " {'content': '¿A cuantos años quieres financiarlo y con cuanto de enganche?',\n",
      "  'role': 'user'},\n",
      " {'content': '3 años y 20% de enganche', 'role': 'user'},\n",
      " {'content': '¡Claro! Aquí tienes el resumen de tu financiamiento:  \\n'\n",
      "             '\\n'\n",
      "             '🔹 **Precio del auto:** $1,000,000 MXN  \\n'\n",
      "             '🔹 **Enganche (20%):** $200,000 MXN  \\n'\n",
      "             '🔹 **Monto a financiar:** $800,000 MXN  \\n'\n",
      "             '🔹 **Plazo:** 3 años (36 meses)  \\n'\n",
      "             '🔹 **Pago mensual:** $25,813.75 MXN  \\n'\n",
      "             '🔹 **Total a pagar (incluyendo intereses):** $929,294.99 MXN  \\n'\n",
      "             '🔹 **Intereses totales:** $129,294.99 MXN  \\n'\n",
      "             '\\n'\n",
      "             'En resumen:  \\n'\n",
      "             '- Pagarás $25,813.75 al mes durante 3 años.  \\n'\n",
      "             '- Al final, habrás pagado $929,294.99 en total.  \\n'\n",
      "             '- Los intereses suman $129,294.99.  \\n'\n",
      "             '\\n'\n",
      "             '¿Te gustaría ajustar algún dato o necesitas más información? 😊',\n",
      "  'role': 'assistant'}]\n"
     ]
    }
   ],
   "source": [
    "from pprint import pprint  \n",
    "\n",
    "print(\"Chat History\")\n",
    "pprint(chat_history)"
   ]
  },
  {
   "cell_type": "markdown",
   "id": "c83dde50",
   "metadata": {},
   "source": []
  }
 ],
 "metadata": {
  "kernelspec": {
   "display_name": ".venv",
   "language": "python",
   "name": "python3"
  },
  "language_info": {
   "codemirror_mode": {
    "name": "ipython",
    "version": 3
   },
   "file_extension": ".py",
   "mimetype": "text/x-python",
   "name": "python",
   "nbconvert_exporter": "python",
   "pygments_lexer": "ipython3",
   "version": "3.12.8"
  }
 },
 "nbformat": 4,
 "nbformat_minor": 5
}
