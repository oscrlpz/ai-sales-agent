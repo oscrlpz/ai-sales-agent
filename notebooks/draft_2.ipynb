{
 "cells": [
  {
   "cell_type": "code",
   "execution_count": null,
   "id": "d3fe8593",
   "metadata": {},
   "outputs": [],
   "source": [
    "import sys\n",
    "sys.path.append(\"/home/oscar/projects/ai-sales-agent\")\n",
    "\n",
    "from agents import KavakGeneralBot"
   ]
  },
  {
   "cell_type": "code",
   "execution_count": null,
   "id": "cf1955ca",
   "metadata": {},
   "outputs": [],
   "source": [
    "sales_bot = KavakGeneralBot(model=\"deepseek-v3\")"
   ]
  },
  {
   "cell_type": "code",
   "execution_count": 3,
   "id": "8f0079d7",
   "metadata": {},
   "outputs": [
    {
     "data": {
      "text/plain": [
       "'KAVAK México: Conoce todas las sedes de KAVAK aquí\\nPaga a meses\\nCompra un auto\\nVende tu auto\\nOutlet de autos\\nCuida tu auto\\nNosotros\\nSedes\\nTestimoniales\\nBlog\\n🇲🇽 México\\n🇧🇷 Brasil\\n🇦🇷 Argentina\\n🇹🇷 Turkey\\n🇨🇱 Chile\\n🇦🇪 UAE\\n🇴🇲 Oman\\nIngresar\\nBlog\\nProcesos Kavak\\nKAVAK México | Conoce todas las sedes de KAVAK aquí\\nProcesos Kavak\\n6\\nmin\\nKAVAK México | Conoce todas las sedes de KAVAK aquí\\nRodrigo Carrasquero\\n7 Apr. 2021\\nCompartir\\nKavak México es una plataforma de compra y venta de autos usados \\u200b\\u200ba los mejores precios del mercado. También ofrece una amplia gama de beneficios, como ayuda para conseguir la opción de\\n“Pago a meses”\\n. Realiza tu pago inicial y haz la compra de tu seminuevo en poco tiempo.\\nKavak Unicornio Mexicano\\nKavak México\\nha logrado un estatus como empresa unicornio en el país. Esto gracias a haber podido ofrecer una solución para tantos mexicanos que luchaban cuando tenían que comprar un auto seminuevo o tenían carros en venta. Buscando ofrecer su servicio a cada vez más mexicanos, Kavak México nació en el DF y fue expandiendo su negocio a otras ciudades de la república.\\nConoce las Sedes de Kavak autos:\\nHoy en día, Kavak cuenta con\\n15 sedes y 13 centros de inspección cubriendo casi todo el territorio nacional.\\nEl afán de Kavak sigue siendo ofrecer la mejor experiencia de compra-venta de autos en el país. De esta manera, quiere lograr que el momento de vender o comprar un auto seminuevo, deje de ser un dolor de cabeza para los mexicanos y que puedan tener un\\naliado en quien confiar\\npara que gestione los trámites necesarios al mismo tiempo que ofrece beneficios reales.\\nEstas son las sedes de Kavak en México:\\nKavak Puebla\\nKavak Explanada\\nCalle Ignacio Allende 512, Santiago Momoxpan, KAVAK Puebla, Puebla, 72760.\\nLunes a Sábados: 9:00 a.m. - 6:00 p.m.\\nDomingos: 9:00 a.m. - 6:00 p.m.\\nKavak Las Torres\\nBlvd. Municipio Libre 1910, Ex Hacienda Mayorazgo, 72480 Puebla, Puebla\\nKavak Monterrey\\nKavak Punto Valle\\nRio Missouri 555, Del Valle, 66220 San Pedro Garza García, N.L. Sótano 4\\nKavak Nuevo Sur\\nAvenida Revolución 2703, Colonia Ladrillera, Monterrey, Nuevo León, CP: 64830\\nKavak Ciudad de México\\nKavak Plaza Fortuna\\nAv Fortuna 334, Magdalena de las Salinas, 07760, Ciudad de México, CDMX, México\\nKavak Patio Santa Fe\\nPlaza Patio Santa Fe, Sótano 3. Vasco de Quiroga 200-400, Santa Fe, Zedec Sta Fé, 01219, Ciudad De México.\\nKavak Tlalnepantla\\nSentura Tlalnepantla, Perif. Blvd. Manuel Ávila Camacho 1434, San Andres Atenco, 54040 Tlalnepantla de Baz, Méx.\\nKavak El Rosario Town Center\\nAv. El Rosario No. 1025 Esq. Av. Aquiles Serdán, sótano 3,Col. El Rosario, C.P. 02100, Azcapotzalco, Ciudad de México\\nKavak Cosmopol\\nAv. José López Portillo 1, Bosques del Valle, 55717 San Francisco Coacalco, Méx. (sótano 2 y patio exterior).\\nKavak Antara Fashion Hall\\nSótano -3 Av Moliere, Polanco II Secc, Miguel Hidalgo, 11520 Ciudad de México, CDMX\\nKavak Artz Pedregal\\nPerif. Sur 3720, Jardines del Pedregal, Álvaro Obregón, 01900 Ciudad de México, CDMX\\nKavak Guadalajara\\nKavak Midtown Guadalajara\\nAv Adolfo López Mateos Nte 1133, Italia Providencia, 44648 Guadalajara, Jal.\\nKavak Punto Sur\\nAv. Punto Sur # 235, Los Gavilanes, 45645 Tlajomulco de Zúñiga, Jal. Sótano 2 Deck Norte\\nKavak Querétaro\\nKavak Puerta la Victoria\\nAv. Constituyentes Número 40 Sótano 3 , Col. Villas del Sol, Querétaro, Qro. 76040\\nKavak Cuernavaca\\nKavak Forum Cuernavaca\\nJacarandas 103, Ricardo Flores Magon, Cuernavaca. México. 62370\\nBeneficios de comprar o vender tu auto con Kavak\\nRealizar la compra o venta de tu auto seminuevo con Kavak tiene una gran cantidad de ventajas importantes que te harán confiar con los ojos cerrados en esta plataforma mexicana de autos seminuevo.\\nKavak llegó para reformar el mercado automotriz del país, sus ideas revolucionarias y modernas teniendo como aliado a la tecnología, le han permitido ganarse la confianza y el respeto de miles de mexicanos que han realizado la compra o venta de su auto con la seguridad que Kavak representa.\\nEstos son algunos de los beneficios más relevantes de Kavak como plataforma de compra y venta de seminuevos:\\nPuedes conseguir el mejor precio del mercado por los mejores autos usados \\u200b\\u200bsi vas a comprar un auto usado o vender tu auto\\nSi compras\\n: Kavak ofrece excelentes precios, en una plataforma con miles de artículos usados \\u200b\\u200bde todo tipo y estilo. Y si el auto que buscas no aparece en su catálogo, te ayudarán a encontrarlo. No pierdas la oportunidad de tener el auto de tus sueños con Kavak.\\nSi vendes un automóvil:\\nKavak puede ofrecer tres ofertas o una oferta:\\nOfrecer depósito, Pagar dentro de los 30 días y Pagar ahora.\\nDepende de la demanda de su automóvil en el mercado. Si optas por realizar un envío y tu vehículo cumple con sus estándares de calidad, el día de la inspección puedes firmar un contrato de envío, pedirles que recojan el vehículo y en el momento de la venta realizan el pago acordado. Esta es la mejor oferta si no necesitas el dinero.\\nAutos 100% certificados\\nTodos los autos que salen al mercado a través de Kavak se comprueban con 240 puntos estándar antes de ser comprados. El\\nproceso de inspección de 240 puntos\\nes una evaluación integral de todos los vehículos. Los inspectores especializados inspeccionan el diseño exterior, interior y del motor. Esto asegura la calidad del sello Kavak en todos los vehículos de la cartera de la marca.\\nOfrece tu vehículo como medio de pago\\nEsta plataforma te ofrece la posibilidad de\\nofrecer tu vehículo como medio de pago\\ny pagar el resto del vehículo tu auto nuevo a meses. Para hacer esto, todo lo que necesita hacer es darle a su vehículo una cotización favorable y programar una inspección. En esa fecha, si su vehículo cumple con nuestros estándares de calidad, fijamos el precio final dentro del rango inmediato y este es el monto establecido como anticipo en la solicitud de financiamiento del vehículo de su elección.\\nPlan de pago a meses con Kavak\\nCon el plan de pago a meses de Kavak, podrás comprar tu auto pagando un monto mensual que se adapte a tus necesidades particulares.\\n¿Cómo funciona el plande pago a meses con Kavak?\\nSolicita tu plan de pagos\\nConoce en menos de 2 minutos las opciones que tenemos para ti.\\nCompleta los datos\\nIngresa tu información y valídala para recibir tu plan de pagos.\\nRealiza el primer pago\\nAsegura tu compra y domicilia los pagos mensuales.\\nAgenda la entrega\\nFirma el contrato y recibe las llaves de tu próximo auto.\\n¿Cuáles son las opciones de plan de pagos que ofrece Kavak?\\nCuentan con diferentes modelos de plan de pagos por lo que no deberás preocuparte por realizar trámites por tu cuenta ya que su personal calificado buscará lo mejor para ti. El primer paso para esto será conocer tu historial crediticio para mostrarte todas las opciones disponibles.\\n¿Qué documentación necesito?\\nPara completar el proceso de solicitud, se requerirá la presentación de los siguientes documentos:\\nIdentificación oficial (INE):\\nDeberás proporcionar una copia legible de tu identificación oficial vigente, como el Instituto Nacional Electoral (INE) o pasaporte. Esto servirá para verificar tu identidad y asegurar que cumples con los requisitos legales.\\nComprobante de domicilio:\\nDeberás presentar un comprobante de domicilio reciente, como una factura de servicios públicos (agua, luz, gas) o un estado de cuenta bancario. Este documento debe mostrar tu nombre completo y la dirección de residencia actual.\\nComprobantes de ingresos:\\nSe solicitarán documentos que respalden tu capacidad de pago, como recibos de nómina, estados de cuenta bancarios o declaraciones de impuestos. Estos documentos permitirán evaluar tu capacidad financiera para cumplir con los pagos mensuales.\\nTodo el papeleo se puede realizar de forma digital, sin necesidad de visitar un centro ni salir de\\xa0 casa.\\nEl proceso es simple: simplemente ingrese a su catálogo en línea en\\nkavak.com\\ny seleccione el auto usado que más le guste, haga clic en \"Me interesa\" y luego seleccione la opción de cita por videollamada en la fecha y hora adecuadas.\\nUna vez completado, nuestro excelente equipo de expertos se pondrá en contacto con usted a través de la última tecnología de videollamadas para mostrarle todos los detalles sobre su automóvil usado favorito, tanto interna como externamente, para responder todas sus preguntas sobre cómo comprarlo.\\nCuando finalice, tendrás dos opciones, proceder al pago directamente o, si te ha quedado alguna duda, agendar una reserva a domicilio donde se encargará de llevarte el auto hasta la puerta de tu hogar sin ningún problema ni compromiso para que continúes explorando y viéndolo más a detalle.\\nPeriodo de prueba y devolución\\nCuando compras un auto de ocasión tienes un\\nperiodo de prueba de 7 días o 300 km\\n, en caso de que tu auto no te convenza puedes devolverlo y KAVAK te ayudará a recomprar el auto de tus sueños. Además, ofrecen una garantía de\\n3 meses y la posibilidad de extenderla por un año más.\\nAplicación postventa\\nEn KAVAK buscan brindar a los clientes experiencias que van más allá de comprar o vender un auto. Desde sus inicios, siempre han apostado por la tecnología como herramienta fundamental para mejorar procesos y brindar mejores experiencias a los usuarios. Esto ha sido un elemento clave en el crecimiento de Kavak como compañía, y el siempre estar a la vanguardia, dejando a un lado ideas preconcebidas y antiguas, para dar paso a la evolución y el progreso.\\nPor esta razón, han\\ncreado una aplicación a través de la cual cada cliente puede tener y acceder a toda la información detallada de su vehículo.\\nInformación detallada sobre los servicios y garantías, así como el mantenimiento del vehículo, además de facilitar un canal de comunicación con el equipo de KAVAK, donde recibirá un trato personalizado.\\n¡Desde la App Kavak tienes todo lo necesario para disfrutar de tu auto y adquirir uno nuevo!\\nAl descargarla tendrás acceso a:\\nAplicar garantía.\\nAmplía tu garantía a Kavak Total.\\nAgendar servicios de mantenimiento.\\nConsultar y solicitar trámites de tu auto.\\nCotizar tu auto y obtener una oferta.\\nConsultar nuestro catálogo.\\nEs muy sencillo agendar un servicio de mantenimiento desde tu App Kavak. Solo tienes que ingresar con el correo y contraseña que registraste. Luego, en el apartado\\nServicios de mantenimiento\\nencontrarás los servicios disponibles:\\nbásico, media y larga vida\\n. Recuerda que con Kavak Total cuentas con dos servicios básicos incluidos a partir de tu sexto mes.\\nSea como sea, KAVAK es sin duda la mejor elección si estás pensando en dar el salto al cambio de auto y necesitas asesores expertos en la materia que te acompañen durante todo el trayecto. O también, si estás pensando en vender ese auto que ya está listo para pasar a manos de otro dueño.\\nEn definitiva\\nKAVAK México es una empresa líder en la venta de autos usados en el país, ofreciendo a los clientes una experiencia única y conveniente. Con su amplia red de sedes en diferentes ciudades de México, brindan a los compradores la oportunidad de encontrar el auto perfecto cerca de su ubicación. Ya sea que estés en la Ciudad de México, Monterrey, Guadalajara o cualquier otra ciudad, KAVAK tiene presencia en múltiples sedes para atender tus necesidades.\\nAdemás de su extensa variedad de vehículos seminuevos de alta calidad, KAVAK se destaca por su proceso de compra transparente y seguro. Su plataforma en línea te permite explorar el inventario, obtener información detallada de cada auto y solicitar un plan de financiamiento a medida. También ofrecen opciones de prueba de manejo y garantía para brindarte mayor tranquilidad al adquirir tu auto.\\nCon sus sedes bien ubicadas en diferentes puntos del país, KAVAK facilita el acceso a sus servicios y te brinda la oportunidad de visitar personalmente sus instalaciones para recibir una atención personalizada por parte de su equipo de expertos.\\nSi te ha gustado este artículo, también te puede interesar:\\nKavak Toluca | Ven y conoce la sede de esta empresa en Toluca\\n¿Dónde se ubica puebla? Kavak inaugura su nueva sede Puebla.\\nAutos usados Querétaro nueva sede | Comprar con Kavak\\nExplora el paraíso de los automóviles en\\nKavak en Ciudad de México\\n. Nuestro catálogo es la puerta a una selección única de vehículos inspeccionados y certificados. Encuentra tu próximo viaje en nuestra amplia gama de opciones, respaldadas por transparencia y calidad. Tu experiencia de conducción perfecta comienza aquí.\\nAdéntrate en el mundo de la elegancia automotriz con\\nMazda en Las Torres\\n. Nuestro catálogo te espera con una selección excepcional de vehículos que combinan estilo y rendimiento. Encuentra tu compañero de carretera perfecto entre nuestras opciones de alta calidad y experimenta la pasión por la conducción en cada detalle. Tu próximo nivel de excelencia automotriz te aguarda con\\nMazda Las Torres\\n. ¡Ven y encuentra tu Mazda ideal hoy mismo!\\nDescubre cuánto ofrecemos por tu auto.\\n¡Cotízalo en 2 minutos!\\nCotizar ahora\\n¿Quieres comprar un auto?\\n¡Tenemos los mejores para ti!\\nVer Catálogo\\nAyuda Kavak\\nCompra un auto\\nPaga a meses\\nVende tu auto\\nCuida tu auto\\nSedes\\nPreguntas frecuentes\\nTestimoniales\\nBlog\\nTrabaja con nosotros\\nContacto\\n🇲🇽\\nMéxico\\nCopyright © 2025 KAVAK.\\nTodos los derechos reservados.\\n·\\nAviso de Privacidad\\n·\\nTérminos y Condiciones\\n·\\nTransparencia\\n·\\nSitemap\\nUvi Tech, S.A.P.I. de C.V., Carretera Amomolulco - Capulhuac, No. 1 Col. El Panteón, Lerma de Villada, Estado de México, México, C.P. 52005'"
      ]
     },
     "execution_count": 3,
     "metadata": {},
     "output_type": "execute_result"
    }
   ],
   "source": [
    "sales_bot.system_prompt"
   ]
  },
  {
   "cell_type": "code",
   "execution_count": 4,
   "id": "3a2d0643",
   "metadata": {},
   "outputs": [],
   "source": [
    "response = sales_bot.send_message(\"Hola, ¿Quien eres?\", stream=True)"
   ]
  },
  {
   "cell_type": "code",
   "execution_count": 5,
   "id": "6688f230",
   "metadata": {},
   "outputs": [
    {
     "name": "stdout",
     "output_type": "stream",
     "text": [
      "¡Hola! 😊 Soy **KAVAK Bot**, tu asistente virtual especializado en ayudarte con todo lo relacionado con **KAVAK México**.  \n",
      "\n",
      "¿En qué puedo asistirte hoy? 🚗💨  \n",
      "- ¿Quieres **vender tu auto** y saber cuánto te ofrecemos?  \n",
      "- ¿Buscas **comprar un seminuevo** con garantía y financiamiento?  \n",
      "- ¿Necesitas información sobre **sedes, trámites o servicios postventa**?  \n",
      "\n",
      "¡Dime cómo puedo ayudarte! ⬇️\n"
     ]
    }
   ],
   "source": [
    "for chunk in sales_bot.yield_response(max_chars=1000):\n",
    "    print(chunk)"
   ]
  },
  {
   "cell_type": "code",
   "execution_count": 6,
   "id": "3fa85012",
   "metadata": {},
   "outputs": [
    {
     "data": {
      "text/plain": [
       "'¡Hola! 😊 Soy **KAVAK Bot**, tu asistente virtual especializado en ayudarte con todo lo relacionado con **KAVAK México**.  \\n\\n¿En qué puedo asistirte hoy? 🚗💨  \\n- ¿Quieres **vender tu auto** y saber cuánto te ofrecemos?  \\n- ¿Buscas **comprar un seminuevo** con garantía y financiamiento?  \\n- ¿Necesitas información sobre **sedes, trámites o servicios postventa**?  \\n\\n¡Dime cómo puedo ayudarte! ⬇️'"
      ]
     },
     "execution_count": 6,
     "metadata": {},
     "output_type": "execute_result"
    }
   ],
   "source": [
    "sales_bot.buffer"
   ]
  }
 ],
 "metadata": {
  "kernelspec": {
   "display_name": ".venv",
   "language": "python",
   "name": "python3"
  },
  "language_info": {
   "codemirror_mode": {
    "name": "ipython",
    "version": 3
   },
   "file_extension": ".py",
   "mimetype": "text/x-python",
   "name": "python",
   "nbconvert_exporter": "python",
   "pygments_lexer": "ipython3",
   "version": "3.12.8"
  }
 },
 "nbformat": 4,
 "nbformat_minor": 5
}
